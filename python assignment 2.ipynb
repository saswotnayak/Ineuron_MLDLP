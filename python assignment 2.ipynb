{
 "cells": [
  {
   "cell_type": "markdown",
   "metadata": {},
   "source": [
    "## Question \n",
    "Create the below pattern using nested for loop in Python.<br>\n",
    "\\* <br>\n",
    "\\* * <br>\n",
    "\\* * * <br>\n",
    "\\* * * * <br>\n",
    "\\* * * * * <br>\n",
    "\\* * * * <br>\n",
    "\\* * * <br>\n",
    "\\* * <br>\n",
    "\\* <br>"
   ]
  },
  {
   "cell_type": "code",
   "execution_count": 2,
   "metadata": {},
   "outputs": [
    {
     "name": "stdout",
     "output_type": "stream",
     "text": [
      "\n",
      "*\n",
      "**\n",
      "***\n",
      "****\n",
      "*****\n",
      "****\n",
      "***\n",
      "**\n",
      "*\n"
     ]
    }
   ],
   "source": [
    "for i in range(6):\n",
    "    print(\"*\"*i)\n",
    "for i in range(4,0,-1):\n",
    "    print(\"*\"*i)"
   ]
  },
  {
   "cell_type": "markdown",
   "metadata": {},
   "source": [
    "## Question 2\n",
    "Write a Python program to reverse a word after accepting the input from the user. <br>\n",
    "Sample Output: <br>\n",
    "Input word: ineuron <br>\n",
    "Output: norueni <br>"
   ]
  },
  {
   "cell_type": "code",
   "execution_count": 17,
   "metadata": {},
   "outputs": [
    {
     "name": "stdout",
     "output_type": "stream",
     "text": [
      "Enter the word, you want to reverse: ineuron\n",
      "The reverse of the entered word is norueni\n"
     ]
    }
   ],
   "source": [
    "str = input(\"Enter the word, you want to reverse: \")\n",
    "print(\"The reverse of the entered word is {}\".format(str[::-1]))"
   ]
  }
 ],
 "metadata": {
  "kernelspec": {
   "display_name": "Python 3",
   "language": "python",
   "name": "python3"
  },
  "language_info": {
   "codemirror_mode": {
    "name": "ipython",
    "version": 3
   },
   "file_extension": ".py",
   "mimetype": "text/x-python",
   "name": "python",
   "nbconvert_exporter": "python",
   "pygments_lexer": "ipython3",
   "version": "3.8.5"
  }
 },
 "nbformat": 4,
 "nbformat_minor": 4
}
